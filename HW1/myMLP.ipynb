{
 "cells": [
  {
   "cell_type": "code",
   "execution_count": 1,
   "id": "2d0c092a-a570-4cbe-a281-0abcb529dc8e",
   "metadata": {},
   "outputs": [],
   "source": [
    "import numpy as np\n",
    "from matplotlib import pyplot as plt"
   ]
  },
  {
   "cell_type": "code",
   "execution_count": null,
   "id": "436f9aed-0e16-4412-a004-e6ac74f0eabc",
   "metadata": {},
   "outputs": [],
   "source": [
    "class MLP:\n",
    "    def __init__(self, input_size, hidden_size, output_size):\n",
    "    self.input_size = input_size\n",
    "    self.hidden_size = hidden_size\n",
    "    self.output_size = output_size\n",
    "    # Initialize weights and biases\n",
    "    self.weights_input_hidden = np.random.randn(self.input_size, self.hidden_size)\n",
    "    self.bias_hidden = np.zeros((1, self.hidden_size))\n",
    "    self.weights_hidden_output = np.random.randn(self.hidden_size, self.output_size)\n",
    "    self.bias_output = np.zeros((1, self.output_size))\n",
    "    \n",
    "    \n",
    "    def sigmoid(self, x):\n",
    "    return (1/(1+np.exp(-x)))\n",
    "    \n",
    "    def sigmoid_derivative(self, x):\n",
    "        sigmoid = 1/(1+np.exp(-x))\n",
    "\n",
    "    return (sigmoid * (1 - sigmoid))\n",
    "    \n",
    "    def forward(self, inputs):\n",
    "    # Forward pass through the network\n",
    "    self.hidden_output = #FILL HERE\n",
    "    self.output = #FILL HERE\n",
    "    return self.output\n",
    "    \n",
    "    def backward(self, inputs, targets, learning_rate):\n",
    "    # Backward pass through the network\n",
    "    # Compute error\n",
    "    output_error = #FILL HERE\n",
    "    hidden_error = #FILL HERE\n",
    "    # Compute gradients\n",
    "    output_delta = #FILL HERE\n",
    "    hidden_delta = #FILL HERE\n",
    "    # Update weights and biases\n",
    "    self.weights_hidden_output = #FILL HERE\n",
    "    self.bias_output = #FILL HERE\n",
    "    self.weights_input_hidden = #FILL HERE\n",
    "    self.bias_hidden = #FILL HERE"
   ]
  }
 ],
 "metadata": {
  "kernelspec": {
   "display_name": "Python 3 (ipykernel)",
   "language": "python",
   "name": "python3"
  },
  "language_info": {
   "codemirror_mode": {
    "name": "ipython",
    "version": 3
   },
   "file_extension": ".py",
   "mimetype": "text/x-python",
   "name": "python",
   "nbconvert_exporter": "python",
   "pygments_lexer": "ipython3",
   "version": "3.11.7"
  }
 },
 "nbformat": 4,
 "nbformat_minor": 5
}
